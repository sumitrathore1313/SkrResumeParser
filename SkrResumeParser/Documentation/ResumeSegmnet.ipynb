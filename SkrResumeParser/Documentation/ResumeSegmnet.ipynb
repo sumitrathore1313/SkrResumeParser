{
 "cells": [
  {
   "cell_type": "markdown",
   "metadata": {
    "collapsed": true
   },
   "source": [
    "# Resume Segment \n",
    "   ## Planning \n",
    "   ### We have total 6 resume segments\n",
    "   1. Basic inforamtion\n",
    "   2. Skills\n",
    "   3. Experience\n",
    "   4. Education\n",
    "   5. MIMC (Interset and Hobbie)\n",
    "   6. Extra"
   ]
  },
  {
   "cell_type": "markdown",
   "metadata": {},
   "source": [
    "We will use FFNN and CNN for classification of resume segments\n",
    "we divided whole task in different steps\n",
    "    1. Create the dataset\n",
    "        a. https://www.indeed.com/resumes?q=web+developer&l=Ghaziabad%2C+Uttar+Pradesh&cb=jt indeed to get resume\n",
    "        b. collect upto 1000 resumes in 10 different title for training and testing dataset\n",
    "        c. save those 1000 resumes in folder \"data/resume_samples/pdfs/\"\n",
    "        d. covert all pdfs file to txt file and save in \"data/resume_samples/txt/\"\n",
    "        e. make resume_segment dir in data folder and create individual file for all resume segments\n",
    "        f. copy all data from resume txts according to resume segment and paste in respective file\n",
    "    2. Data Processing of dataset\n",
    "        a. "
   ]
  },
  {
   "cell_type": "markdown",
   "metadata": {
    "collapsed": true
   },
   "source": [
    "all files and diretory details\n",
    "ResumeParser\n",
    "    1. Data              => (DATA) All dataset and all type of data for project\n",
    "        a. resume_samples     => this dir contain all resume acording to job title\n",
    "        b. resume_segments    => All file for resume segment part\n",
    "    2. DataProcessing    => (Python Package) All files releted to Data Processing\n",
    "        a. Vocab              => get vocablory from file or lexicon from data\n",
    "        b. train_test_split   => split data into train_x, test_x, train_y, test_y\n",
    "    3. Documentation     => (documentation) All files releted to documentation and planning\n",
    "    4. Models            => (python pacakge) All machine learning models \n",
    "    5. Src               => (Main files) source of executes files\n",
    "    6. Test              => (Testing) testing of all files\n",
    "    7. VectorProcessing  => (python package) All files releted to word emebedding \n",
    "        a. GloveSentenceVector => make glove sen2vec\n",
    "        b. GloveWordVector     => make glove word2vec \n",
    "    8. Helper            => (python package) All other helping files\n",
    "        a. pdf2txt            => convert pdfs to txt\n",
    "        b. create_segments    => convert label resume to levels segment"
   ]
  },
  {
   "cell_type": "markdown",
   "metadata": {
    "collapsed": true
   },
   "source": [
    "Actual Planning \n",
    "    1. we keep all job ttle data seprate in diffrent level folder in \"reseume/resume_segments/<level Namw>/<job itle name>\" \n",
    "    2. we create different level of raw data as level 0, level 1...\n",
    "        a. every level contain job title folder\n",
    "        b. every job title folder in level conatin their respected resue segment file ex- basic.txt, ...\n",
    "        c. level 0 is have empty line\n",
    "        d. level 1 remove empty line\n",
    "        e. level 2 try to store sentence in sentence\n",
    "        f. level 3 does not contain any special char\n",
    "            when removing special char... replace by space ex- HTML/CSS => HTML CSS \n",
    "            \n",
    "     3. overall level dir structure\n",
    "         <level Name>\n",
    "             <job title name>\n",
    "                 basic_info.txt => contain basic info of specefic job title\n",
    "                 education.txt\n",
    "                 extra.txt\n",
    "                 experience.txt\n",
    "                 skills.txt\n",
    "                 projects.txt\n",
    "                 certificates.txt\n",
    "                 summary.txt\n",
    "             <job title name>\n",
    "            .........\n",
    "             basic_info.txt => contain basic info of all job title\n",
    "             education.txt\n",
    "             extra.txt\n",
    "             experience.txt\n",
    "             skills.txt\n",
    "             projects.txt\n",
    "             certificates.txt\n",
    "             summary.txt"
   ]
  },
  {
   "cell_type": "code",
   "execution_count": null,
   "metadata": {
    "collapsed": true
   },
   "outputs": [],
   "source": []
  }
 ],
 "metadata": {
  "kernelspec": {
   "display_name": "Python 3",
   "language": "python",
   "name": "python3"
  },
  "language_info": {
   "codemirror_mode": {
    "name": "ipython",
    "version": 2
   },
   "file_extension": ".py",
   "mimetype": "text/x-python",
   "name": "python",
   "nbconvert_exporter": "python",
   "pygments_lexer": "ipython2",
   "version": "2.7.13"
  }
 },
 "nbformat": 4,
 "nbformat_minor": 1
}
