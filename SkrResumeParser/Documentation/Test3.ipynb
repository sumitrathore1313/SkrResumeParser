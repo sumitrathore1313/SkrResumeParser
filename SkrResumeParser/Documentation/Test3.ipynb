{
 "cells": [
  {
   "cell_type": "markdown",
   "metadata": {
    "collapsed": true
   },
   "source": [
    "# upgrading level 2 to level 1"
   ]
  },
  {
   "cell_type": "markdown",
   "metadata": {},
   "source": [
    "## In this whole process we are going to do following things to upgrade level"
   ]
  },
  {
   "cell_type": "markdown",
   "metadata": {},
   "source": [
    "1. All resume segment data should be equal length or contain equal sentence \n",
    "2. we add samples, fresher and software developer also\n",
    "3. basic information changes\n",
    "    a. add language email, address and phone number\n",
    "4. summary changes\n",
    "    a. \n",
    "5. education changes\n",
    "    a. increse data by adding college dataset and date pattern\n",
    "6. experience change\n",
    "    a. use standford ner to fiter work experience \n",
    "    b. keep 5 sentence upper and down when find any date person or organozation\n",
    "7. skill changes\n",
    "    a. find all main skills and write in line by one by one since manily skills comes more times than any other word\n",
    "8. mimc changes\n"
   ]
  },
  {
   "cell_type": "code",
   "execution_count": null,
   "metadata": {
    "collapsed": true
   },
   "outputs": [],
   "source": []
  }
 ],
 "metadata": {
  "kernelspec": {
   "display_name": "Python 2",
   "language": "python",
   "name": "python2"
  },
  "language_info": {
   "codemirror_mode": {
    "name": "ipython",
    "version": 2
   },
   "file_extension": ".py",
   "mimetype": "text/x-python",
   "name": "python",
   "nbconvert_exporter": "python",
   "pygments_lexer": "ipython2",
   "version": "2.7.13"
  }
 },
 "nbformat": 4,
 "nbformat_minor": 1
}
