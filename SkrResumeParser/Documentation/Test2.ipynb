{
 "cells": [
  {
   "cell_type": "markdown",
   "metadata": {
    "collapsed": true
   },
   "source": [
    "# Upgrade Level 0 To Level 1 "
   ]
  },
  {
   "cell_type": "markdown",
   "metadata": {},
   "source": [
    "## In this whole process we are going to do some following things to make level 1 data from level 0 data \n",
    "    1. remove special char except fullstop, comma and dash and put space instead of them\n",
    "    2. join diffrent line to formed sentence but sentence max length should be 50\n",
    "    "
   ]
  },
  {
   "cell_type": "markdown",
   "metadata": {},
   "source": [
    "### Remove special char and put space "
   ]
  },
  {
   "cell_type": "code",
   "execution_count": 1,
   "metadata": {
    "collapsed": true
   },
   "outputs": [],
   "source": [
    "import os\n",
    "import re"
   ]
  },
  {
   "cell_type": "code",
   "execution_count": 2,
   "metadata": {},
   "outputs": [
    {
     "name": "stdout",
     "output_type": "stream",
     "text": [
      "['android_developer', 'web_developer']\n",
      "['projects.txt', 'education.txt', 'extra.txt', 'basic_info.txt', 'mimc.txt', 'experience.txt', 'skills.txt', 'summary.txt', 'certificates.txt']\n"
     ]
    }
   ],
   "source": [
    "level0_dir_path = '/home/sumit/PycharmProjects/ResumeParser/Data/resume_segments/Level0/'\n",
    "level0_dir_list = os.walk(level0_dir_path).next()[1]\n",
    "level0_files_list = os.walk(level0_dir_path).next()[2]\n",
    "print level0_dir_list\n",
    "print level0_files_list\n",
    "level1_dir_path = '/home/sumit/PycharmProjects/ResumeParser/Data/resume_segments/Level1/'\n",
    "level1_dir_list = os.walk(level0_dir_path).next()[1]"
   ]
  },
  {
   "cell_type": "markdown",
   "metadata": {},
   "source": [
    "First we are going to break raw sentence into actual sentence\n",
    "    break after full stop and space\n"
   ]
  },
  {
   "cell_type": "code",
   "execution_count": 3,
   "metadata": {},
   "outputs": [
    {
     "name": "stdout",
     "output_type": "stream",
     "text": [
      "succesfull\n"
     ]
    }
   ],
   "source": [
    "for directory in level0_dir_list:\n",
    "    for files in level0_files_list:\n",
    "        data = open(level0_dir_path+directory+'/'+files, 'r').read()\n",
    "        data = re.sub('[^A-Za-z0-9 \\n.]+', ' ', data)\n",
    "        data = list(data)\n",
    "        pop_index = []\n",
    "        for char in range(len(data)):\n",
    "            if data[char] == '\\n':\n",
    "                count = char+1\n",
    "                if count < len(data)-5:\n",
    "                    while(not data[count].isalpha()):\n",
    "                        pop_index.append(count)\n",
    "                        count += 1\n",
    "        count = 0\n",
    "        for x in pop_index:\n",
    "            x = x - count\n",
    "            data.pop(x)\n",
    "            count += 1\n",
    "        for char in range(len(data)):\n",
    "            if data[char] == '.':\n",
    "                if data[char+1] == ' ':\n",
    "                    data[char+1] = '\\n'\n",
    "        for char in range(len(data)-1):\n",
    "            if data[char] == '\\n':\n",
    "                if not data[char+1].isupper():\n",
    "                    data[char] = ' '\n",
    "        data =  \"\".join(data)\n",
    "        data = re.sub('[^A-Za-z0-9 \\n]+', '', data)\n",
    "        data_lines = data.split('\\n')\n",
    "        new_data = []\n",
    "        for line in data_lines:\n",
    "            words = line.split()\n",
    "            if len(words) >= 46:\n",
    "                for x in range(len(words)/45):\n",
    "                    words[(x+1)*45] = '\\n'\n",
    "            words.append('\\n')\n",
    "            new_data.append(\" \".join(words))\n",
    "        new_data = \"\".join(new_data)\n",
    "        with open(level1_dir_path+directory+'/'+files, 'w') as f:\n",
    "            f.write(new_data)\n",
    "print \"succesfull\""
   ]
  },
  {
   "cell_type": "code",
   "execution_count": null,
   "metadata": {
    "collapsed": true
   },
   "outputs": [],
   "source": []
  }
 ],
 "metadata": {
  "kernelspec": {
   "display_name": "Python 2",
   "language": "python",
   "name": "python2"
  },
  "language_info": {
   "codemirror_mode": {
    "name": "ipython",
    "version": 2
   },
   "file_extension": ".py",
   "mimetype": "text/x-python",
   "name": "python",
   "nbconvert_exporter": "python",
   "pygments_lexer": "ipython2",
   "version": "2.7.13"
  }
 },
 "nbformat": 4,
 "nbformat_minor": 1
}
