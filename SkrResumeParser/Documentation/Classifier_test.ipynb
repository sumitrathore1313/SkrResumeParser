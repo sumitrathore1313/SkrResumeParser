{
 "cells": [
  {
   "cell_type": "code",
   "execution_count": null,
   "metadata": {},
   "outputs": [
    {
     "name": "stderr",
     "output_type": "stream",
     "text": [
      "Using TensorFlow backend.\n"
     ]
    }
   ],
   "source": [
    "from keras.models import load_model\n",
    "from VectorProcessing import GramGloveSentenceVector"
   ]
  },
  {
   "cell_type": "code",
   "execution_count": 2,
   "metadata": {
    "collapsed": true
   },
   "outputs": [],
   "source": [
    "classifier_path = \"/home/sumit/Desktop/project17/ResumeParser/Data/resume_segments/Test/classifier5\"\n",
    "file_path = \"/home/sumit/Desktop/project17/ResumeParser/Data/resume_segments/Test/sample.txt\""
   ]
  },
  {
   "cell_type": "code",
   "execution_count": 3,
   "metadata": {},
   "outputs": [
    {
     "name": "stdout",
     "output_type": "stream",
     "text": [
      "126 1500\n"
     ]
    }
   ],
   "source": [
    "gsv = GramGloveSentenceVector(file_path,dimension=300, training=False)\n",
    "sen2vec = gsv.get_5gram_sentenceVector()\n",
    "print len(sen2vec), len(sen2vec[0])"
   ]
  },
  {
   "cell_type": "code",
   "execution_count": 4,
   "metadata": {
    "collapsed": true
   },
   "outputs": [],
   "source": [
    "classifier = load_model(classifier_path)"
   ]
  },
  {
   "cell_type": "code",
   "execution_count": 5,
   "metadata": {},
   "outputs": [],
   "source": [
    "import numpy as np\n",
    "y_pred = classifier.predict(np.array(sen2vec))"
   ]
  },
  {
   "cell_type": "code",
   "execution_count": 6,
   "metadata": {},
   "outputs": [
    {
     "name": "stdout",
     "output_type": "stream",
     "text": [
      "SUMIT RATHORE\n",
      "=> basic\n",
      "Web Developer\n",
      "=> basic\n",
      "8800904192       sumitrathore1313@gmail.com\n",
      "=> skills\n",
      "CAREER OBJECTIVE\n",
      "=> experience\n",
      "Self-motivated and hardworking fresher seeking for an opportunity to work in a challenging environment to prove my skills and utilize my knowledge & intelligence in the growth of the organization.\n",
      "=> summary\n",
      "WORK EXPERIENCE\n",
      "=> experience\n",
      "Arbunize, Delhi, Delhi\n",
      "=> experience\n",
      "Internship, Jun 2017 – Jul 2017\n",
      "=> experience\n",
      "Web Developer\n",
      "=> experience\n",
      "Design, build, or maintain web sites, using authoring or scripting languages, content creation tools, management tools, and digital media.\n",
      "=> experience\n",
      "\n",
      "=> education\n",
      "EDUCATION\n",
      "=> education\n",
      "Ims Engineering College, Ghaziabad, Uttar Pradesh\n",
      "=> education\n",
      "B Tech Computer Science and Engineering Candidate, Expected graduation, Aug 2018\n",
      "=> education\n",
      "I got 68% till third year of my B Tech\n",
      "=> education\n",
      "\n",
      "=> education\n",
      "Bhartiya Vidya Peeth Sr. Sec School, Agra, Uttar Pradesh\n",
      "=> education\n",
      "Secondary School Examination(10th), Aug 2009 - Aug 2011\n",
      "=> education\n",
      "I got 79% in Secondary School Examination\n",
      "=> education\n",
      "\n",
      "=> education\n",
      "Bhartiya Vidya Peeth Sr. Sec. School, Agra, Uttar Pradesh\n",
      "=> education\n",
      "Senior School Certificate Examination(12th), Aug 2012 - Aug 2013\n",
      "=> education\n",
      "I got 76% in Senior School Certificate Examination\n",
      "=> education\n",
      "\n",
      "=> skills\n",
      "ADDITIONAL SKILLS\n",
      "=> skills\n",
      "Laravel  \t\t\tOpen-source PHP web framework\n",
      "=> projects\n",
      "Angular 2 \t\t\tTypescript-based open-source front-end web application framework\n",
      "=> skills\n",
      "Data Analytics\n",
      "=> skills\n",
      "Deep Learning,  Machine Learning\n",
      "=> summary\n",
      "Natural Language Processing\n",
      "=> skills\n",
      "PHP \t\t\t \tPHP is a server-side scripting language\n",
      "=> skills\n",
      "Python\t\t \t\tHigh-level programming languages\n",
      "=> skills\n",
      "JavaScript,  JQuery\n",
      "=> skills\n",
      " HTML, CSS, Bootstrap framework\n",
      "=> skills\n",
      "MySQL/SQLite \t\t\tRelational database management system\n",
      "=> skills\n",
      "Ubuntu, Window 8/10 \t \tOperating Systems\n",
      "=> skills\n",
      "\n",
      "=> skills\n",
      "PROJECTS UNDERTAKEN\n",
      "=> skills\n",
      "Student Management System\n",
      "=> projects\n",
      "Technology/Tools:\tLumen, Angular2, Bootstrap, HTML, CSS, PHP, MySQL, Typescript etc.\n",
      "=> skills\n",
      "Team Size:\t\tThree\n",
      "=> experience\n",
      "Description:\t\tStudent Management system is web based application in which we store and manage all information about every student like their attendance, assignments and their scholarship details etc. we used client angular 2 as front end and lumen which is Rest API framework of PHP as backend.\n",
      "=> experience\n",
      "Arbunize Resume Parser\n",
      "=> experience\n",
      "Technology/Tools:\tDeep Learning, Machine Learning, NLP, NLTK, Keras, Sklearn etc.\n",
      "=> experience\n",
      "Team Size:\t\tOne\n",
      "=> experience\n",
      "Description:\t\tResume Parsing, also known as CV Parsing, Resume Extraction or CV Extraction, is the conversion of a free-form CV/resume document into structured information or XML format — suitable for storage, reporting and manipulation by a computer.\n",
      "=> experience\n",
      "IMSEC Sport Fest Website\n",
      "=> experience\n",
      "Technology/Tools:\tPHP, Laravel, Bootstrap, HTML, CSS, SQLite, JavaScript, JQuery etc.\n",
      "=> experience\n",
      "Team Size:\t\tTwo\n",
      "=> projects\n",
      "Description:\t\tIn this project we make our college sport fest (chakravyuh) website for online registration of teams and manage their all facilities like accommodation, planning etc.\n",
      "=> projects\n",
      "Some Other Projects\n",
      "=> experience\n",
      "Image Processing Line Follower\n",
      "=> projects\n",
      "Home Automation IOT\n",
      "=> projects\n",
      "Face Recognition using convolution neural network\n",
      "=> projects\n",
      "Automatic Customer Care  \t\t\t\t\t{ Final year project }\n",
      "=> experience\n",
      "AWARDS AND HONORS\n",
      "=> certificate\n",
      "I got second position in robotics competition in lit Kanpur.\n",
      "=> certificate\n",
      "Won prizes in Technical Competition and creative innovation.\n",
      "=> certificate\n",
      "Participated in various Technical events and Fest at college.\n",
      "=> certificate\n",
      "PERSONAL DETAILS\n",
      "=> certificate\n",
      "Date of Birth:\t\t1 March 1997\n",
      "=> education\n",
      "Languages known:\t Hindi and English.\n",
      "=> education\n",
      "Address: \t\tDurga Dairy near Janak Palace Rajpur Bagiya  Agra, Uttar Pradesh  282001\n",
      "=> basic\n",
      "SUMIT RATHORE\n",
      "=> basic\n",
      "Web Developer\n",
      "=> experience\n",
      "8800904192       sumitrathore1313@gmail.com\n",
      "=> skills\n",
      "CAREER OBJECTIVE\n",
      "=> experience\n",
      "Self-motivated and hardworking fresher seeking for an opportunity to work in a challenging environment to prove my skills and utilize my knowledge & intelligence in the growth of the organization.\n",
      "=> summary\n",
      "WORK EXPERIENCE\n",
      "=> experience\n",
      "Arbunize, Delhi, Delhi\n",
      "=> experience\n",
      "Internship, Jun 2017 – Jul 2017\n",
      "=> experience\n",
      "Web Developer\n",
      "=> experience\n",
      "Design, build, or maintain web sites, using authoring or scripting languages, content creation tools, management tools, and digital media.\n",
      "=> experience\n",
      "\n",
      "=> education\n",
      "EDUCATION\n",
      "=> education\n",
      "Ims Engineering College, Ghaziabad, Uttar Pradesh\n",
      "=> education\n",
      "B Tech Computer Science and Engineering Candidate, Expected graduation, Aug 2018\n",
      "=> education\n",
      "I got 68% till third year of my B Tech\n",
      "=> education\n",
      "\n",
      "=> education\n",
      "Bhartiya Vidya Peeth Sr. Sec School, Agra, Uttar Pradesh\n",
      "=> education\n",
      "Secondary School Examination(10th), Aug 2009 - Aug 2011\n",
      "=> education\n",
      "I got 79% in Secondary School Examination\n",
      "=> education\n",
      "\n",
      "=> education\n",
      "Bhartiya Vidya Peeth Sr. Sec. School, Agra, Uttar Pradesh\n",
      "=> education\n",
      "Senior School Certificate Examination(12th), Aug 2012 - Aug 2013\n",
      "=> education\n",
      "I got 76% in Senior School Certificate Examination\n",
      "=> education\n",
      "\n",
      "=> skills\n",
      "ADDITIONAL SKILLS\n",
      "=> skills\n",
      "Laravel  \t\t\tOpen-source PHP web framework\n",
      "=> projects\n",
      "Angular 2 \t\t\tTypescript-based open-source front-end web application framework\n",
      "=> skills\n",
      "Data Analytics\n",
      "=> skills\n",
      "Deep Learning,  Machine Learning\n",
      "=> summary\n",
      "Natural Language Processing\n",
      "=> skills\n",
      "PHP \t\t\t \tPHP is a server-side scripting language\n",
      "=> skills\n",
      "Python\t\t \t\tHigh-level programming languages\n",
      "=> skills\n",
      "JavaScript,  JQuery\n",
      "=> skills\n",
      " HTML, CSS, Bootstrap framework\n",
      "=> skills\n",
      "MySQL/SQLite \t\t\tRelational database management system\n",
      "=> skills\n",
      "Ubuntu, Window 8/10 \t \tOperating Systems\n",
      "=> skills\n",
      "\n",
      "=> skills\n",
      "PROJECTS UNDERTAKEN\n",
      "=> skills\n",
      "Student Management System\n",
      "=> projects\n",
      "Technology/Tools:\tLumen, Angular2, Bootstrap, HTML, CSS, PHP, MySQL, Typescript etc.\n",
      "=> skills\n",
      "Team Size:\t\tThree\n",
      "=> experience\n",
      "Description:\t\tStudent Management system is web based application in which we store and manage all information about every student like their attendance, assignments and their scholarship details etc. we used client angular 2 as front end and lumen which is Rest API framework of PHP as backend.\n",
      "=> experience\n",
      "Arbunize Resume Parser\n",
      "=> experience\n",
      "Technology/Tools:\tDeep Learning, Machine Learning, NLP, NLTK, Keras, Sklearn etc.\n",
      "=> experience\n",
      "Team Size:\t\tOne\n",
      "=> experience\n",
      "Description:\t\tResume Parsing, also known as CV Parsing, Resume Extraction or CV Extraction, is the conversion of a free-form CV/resume document into structured information or XML format — suitable for storage, reporting and manipulation by a computer.\n",
      "=> experience\n",
      "IMSEC Sport Fest Website\n",
      "=> experience\n",
      "Technology/Tools:\tPHP, Laravel, Bootstrap, HTML, CSS, SQLite, JavaScript, JQuery etc.\n",
      "=> experience\n",
      "Team Size:\t\tTwo\n",
      "=> projects\n",
      "Description:\t\tIn this project we make our college sport fest (chakravyuh) website for online registration of teams and manage their all facilities like accommodation, planning etc.\n",
      "=> projects\n",
      "Some Other Projects\n",
      "=> experience\n",
      "Image Processing Line Follower\n",
      "=> projects\n",
      "Home Automation IOT\n",
      "=> projects\n",
      "Face Recognition using convolution neural network\n",
      "=> projects\n",
      "Automatic Customer Care  \t\t\t\t\t{ Final year project }\n",
      "=> experience\n",
      "AWARDS AND HONORS\n",
      "=> certificate\n",
      "I got second position in robotics competition in lit Kanpur.\n",
      "=> certificate\n",
      "Won prizes in Technical Competition and creative innovation.\n",
      "=> certificate\n",
      "Participated in various Technical events and Fest at college.\n",
      "=> certificate\n",
      "PERSONAL DETAILS\n",
      "=> certificate\n",
      "Date of Birth:\t\t1 March 1997\n",
      "=> education\n",
      "Languages known:\t Hindi and English.\n",
      "=> education\n",
      "Address: \t\tDurga Dairy near Janak Palace Rajpur Bagiya  Agra, Uttar Pradesh  282001\n",
      "=> education\n"
     ]
    }
   ],
   "source": [
    "with open(file_path, 'r') as f:\n",
    "    content = f.readlines()\n",
    "count = 0\n",
    "labels = ['basic', 'experience', 'education', 'certificate', 'extra', 'skills', 'projects','summary', 'mimc']\n",
    "for line in content:\n",
    "    print line ,'=>', labels[np.argmax(y_pred, 1)[count]]\n",
    "    count += 1"
   ]
  },
  {
   "cell_type": "code",
   "execution_count": 7,
   "metadata": {},
   "outputs": [
    {
     "name": "stdout",
     "output_type": "stream",
     "text": [
      "(126, 10)\n"
     ]
    }
   ],
   "source": [
    "import matplotlib.pyplot as plt\n",
    "index = np.arange(len(y_pred))\n",
    "index = np.reshape(index, (-1, 1))\n",
    "#print index\n",
    "y_pred = np.append(y_pred, index, axis=1)\n",
    "print y_pred.shape"
   ]
  },
  {
   "cell_type": "code",
   "execution_count": 8,
   "metadata": {},
   "outputs": [
    {
     "data": {
      "image/png": "[encoded data removed]",
      "text/plain": [
       "<matplotlib.figure.Figure at 0x7eff66636fd0>"
      ]
     },
     "metadata": {},
     "output_type": "display_data"
    }
   ],
   "source": [
    "data = y_pred[:, [0, -1]]\n",
    "from sklearn.preprocessing import StandardScaler\n",
    "sc_X = StandardScaler()\n",
    "data = sc_X.fit_transform(data)\n",
    "import scipy.cluster.hierarchy as sch\n",
    "dendrogram = sch.dendrogram(sch.linkage(data, method = 'ward'))\n",
    "plt.title('Dendrogram')\n",
    "plt.xlabel('Customers')\n",
    "plt.ylabel('Euclidean distances')\n",
    "plt.show()"
   ]
  },
  {
   "cell_type": "code",
   "execution_count": 9,
   "metadata": {
    "scrolled": true
   },
   "outputs": [],
   "source": [
    "from sklearn.cluster import AgglomerativeClustering\n",
    "hc = AgglomerativeClustering(n_clusters = 2, affinity = 'euclidean', linkage = 'ward')\n",
    "y_hc = hc.fit_predict(data)"
   ]
  },
  {
   "cell_type": "code",
   "execution_count": 10,
   "metadata": {},
   "outputs": [
    {
     "data": {
      "image/png": "[encoded data removed]",
      "text/plain": [
       "<matplotlib.figure.Figure at 0x7eff956f8b90>"
      ]
     },
     "metadata": {},
     "output_type": "display_data"
    }
   ],
   "source": [
    "X = data\n",
    "plt.figure(figsize=(20,10))\n",
    "plt.scatter(X[y_hc == 0, 1], X[y_hc == 0, 0], s = 100, c = 'red', label = 'Cluster 1')\n",
    "plt.scatter(X[y_hc == 1, 1], X[y_hc == 1, 0], s = 100, c = 'blue', label = 'Cluster 2')\n",
    "#plt.scatter(X[y_hc == 2, 0], X[y_hc == 2, 1], s = 100, c = 'green', label = 'Cluster 3')\n",
    "#plt.scatter(X[y_hc == 3, 0], X[y_hc == 3, 1], s = 100, c = 'cyan', label = 'Cluster 4')\n",
    "#plt.scatter(X[y_hc == 4, 0], X[y_hc == 4, 1], s = 100, c = 'magenta', label = 'Cluster 5')\n",
    "plt.title('Clusters of customers')\n",
    "\n",
    "plt.xlabel('Annual Income (k$)')\n",
    "plt.ylabel('Spending Score (1-100)')\n",
    "plt.legend()\n",
    "plt.show()"
   ]
  }
 ],
 "metadata": {
  "kernelspec": {
   "display_name": "Python 2",
   "language": "python",
   "name": "python2"
  },
  "language_info": {
   "codemirror_mode": {
    "name": "ipython",
    "version": 2
   },
   "file_extension": ".py",
   "mimetype": "text/x-python",
   "name": "python",
   "nbconvert_exporter": "python",
   "pygments_lexer": "ipython2",
   "version": "2.7.13"
  }
 },
 "nbformat": 4,
 "nbformat_minor": 1
}
