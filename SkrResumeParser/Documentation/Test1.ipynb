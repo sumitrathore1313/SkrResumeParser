{
 "cells": [
  {
   "cell_type": "markdown",
   "metadata": {
    "collapsed": true
   },
   "source": [
    "# First Test "
   ]
  },
  {
   "cell_type": "markdown",
   "metadata": {},
   "source": [
    "## Each Test is divided by their level . Each level contain their job title test "
   ]
  },
  {
   "cell_type": "markdown",
   "metadata": {},
   "source": [
    "## In this test we are going to train feed forward neural network with two hidden layer with each job title data "
   ]
  },
  {
   "cell_type": "markdown",
   "metadata": {},
   "source": [
    "### first job title is web development of level 0"
   ]
  },
  {
   "cell_type": "markdown",
   "metadata": {},
   "source": [
    "First we make data preprocessing templete of level 0 \n",
    "which will be used by all job title test"
   ]
  },
  {
   "cell_type": "markdown",
   "metadata": {},
   "source": [
    "their are following steps for data processing\n",
    "    1. find all vocablory in files\n",
    "    2. divide all vocablory in two parts\n",
    "        a. known vocab => which have word2vec in word embeddided file\n",
    "        b. unknown vocab => which does not have word2vec \n",
    "    3. find all known vvocab vector and generate all unknown voacb vector and save in cpickle file\n",
    "    4. take each sentence from training file and make sentence vector using word2vec file and save it "
   ]
  },
  {
   "cell_type": "code",
   "execution_count": 1,
   "metadata": {
    "collapsed": true
   },
   "outputs": [],
   "source": [
    "import io\n",
    "from nltk.stem import WordNetLemmatizer\n",
    "from nltk.tokenize import RegexpTokenizer\n",
    "import os\n",
    "import numpy as np\n",
    "import cPickle as pic\n",
    "import os\n",
    "#os.environ['CUDA_VISIBLE_DEVICES'] = '-1'      # this is used when you want to run on cpu not gpu\n",
    "\n",
    "lemmatizer = WordNetLemmatizer()\n",
    "tokenizer = RegexpTokenizer(r'\\w+')"
   ]
  },
  {
   "cell_type": "code",
   "execution_count": 2,
   "metadata": {
    "collapsed": true
   },
   "outputs": [],
   "source": [
    "def get_vocab(file_name):\n",
    "    lexicon = []\n",
    "    with io.open(file_name, 'r', encoding='cp437') as f:\n",
    "        contents = f.readlines()\n",
    "        for l in contents:\n",
    "            all_words = tokenizer.tokenize(l)\n",
    "            #all_words = word_tokenize(l)\n",
    "            lexicon += list(all_words)\n",
    "    lexicon = [(lemmatizer.lemmatize(i)).encode('utf8').lower() for i in lexicon]\n",
    "    lexicon = sorted(set(lexicon))\n",
    "\n",
    "    return lexicon\n",
    "\n",
    "def get_unknown_vocab(fname, words):\n",
    "    f2 = io.open(fname, 'rb').read()\n",
    "    vocab = f2.splitlines()\n",
    "    known_vocab = []\n",
    "    unknown_vocab = []\n",
    "    for word in words:\n",
    "        if word in vocab:\n",
    "            known_vocab.append(word)\n",
    "        else:\n",
    "            unknown_vocab.append(word)\n",
    "    return known_vocab, unknown_vocab\n",
    "\n",
    "def get_wiki_glove_vector(fname, words):\n",
    "    vectors = {}\n",
    "    W = []\n",
    "    vocab = {}\n",
    "    ivocab = {}\n",
    "    f1 = open(fname, 'rb').read()\n",
    "    for line in f1.splitlines():\n",
    "        temp = line.split()\n",
    "        vectors[temp[0]] = map(float, temp[1:])\n",
    "\n",
    "    vocab_size = len(words)\n",
    "\n",
    "    for i in range(len(words)):\n",
    "        W.append(vectors[words[i]])\n",
    "        vocab[words[i]] = i\n",
    "        ivocab[i] = words[i]\n",
    "    W = np.array(W)\n",
    "    # normalize each word vector to unit variance\n",
    "    #print W[0:2], W[-1:-3]\n",
    "    W_norm = np.zeros(W.shape)\n",
    "    d = (np.sum(W ** 2, 1) ** (0.5))\n",
    "    W_norm = (W.T / d).T\n",
    "\n",
    "    return W_norm, vocab, ivocab\n",
    "\n",
    "\n",
    "def get_unknown_vec(words, word2vec, vocab, ivocab):\n",
    "    old_size = len(vocab)\n",
    "    word2vec = list(word2vec)\n",
    "    for i in range(len(words)):\n",
    "        word2vec.append(np.random.uniform(-0.25, 0.25, len(word2vec[0])))\n",
    "        vocab[words[i]] = i+old_size\n",
    "        ivocab[i+old_size] = words[i]\n",
    "    return word2vec, vocab, ivocab"
   ]
  },
  {
   "cell_type": "code",
   "execution_count": 3,
   "metadata": {},
   "outputs": [
    {
     "name": "stdout",
     "output_type": "stream",
     "text": [
      "('vocab length: ', 10793)\n",
      "('known_vocab length: ', 8567)\n",
      "('unknown_vocab length: ', 2226)\n",
      "word2vec created\n"
     ]
    }
   ],
   "source": [
    "glove_file = '/home/sumit/stanford-nlp/glove/wiki_GVector/glove.6B.100d.txt'\n",
    "glove_vocab_file = '/home/sumit/stanford-nlp/glove/wiki_GVector/vocab.txt'\n",
    "word2vec_file = \"/home/sumit/PycharmProjects/ResumeParser/Data/resume_segments/Test/web_word2vec.p\"\n",
    "dirlist_path = '/home/sumit/PycharmProjects/ResumeParser/Data/resume_segments/Level0/'\n",
    "dirlist = os.walk(dirlist_path).next()[2] # only give files not folders\n",
    "#dirlist = os.listdir(dirlist_path)\n",
    "\n",
    "if not os.path.isfile(word2vec_file):\n",
    "    # get vocablory of all file\n",
    "    vocab = []\n",
    "\n",
    "    for files in dirlist:\n",
    "        vocab += get_vocab(dirlist_path+files)\n",
    "    vocab = sorted(set(vocab))\n",
    "    print(\"vocab length: \", len(vocab))\n",
    "    # get the glove vector\n",
    "    known_vocab, unknown_vocab = get_unknown_vocab(glove_vocab_file, vocab)\n",
    "    print(\"known_vocab length: \", len(known_vocab))\n",
    "    print(\"unknown_vocab length: \", len(unknown_vocab))\n",
    "    Word2vec, vocab, ivocab = get_wiki_glove_vector(glove_file, known_vocab)\n",
    "    Word2vec, vocab, ivocab = get_unknown_vec(unknown_vocab,Word2vec, vocab, ivocab)\n",
    "    pic.dump([Word2vec, vocab, ivocab ], open(word2vec_file, 'wb'))\n",
    "    print(\"word2vec created\")"
   ]
  },
  {
   "cell_type": "code",
   "execution_count": 4,
   "metadata": {},
   "outputs": [
    {
     "name": "stdout",
     "output_type": "stream",
     "text": [
      "sen2vec created\n"
     ]
    }
   ],
   "source": [
    "def get_avg_sen2vec(fname, word2vec_fname, output):\n",
    "    sen2vec = []\n",
    "    with open(word2vec_fname, 'rb') as f:\n",
    "        word2vec, vocab, ivocab = pic.load(f)\n",
    "\n",
    "    with io.open(fname, 'r', encoding='cp437') as f:\n",
    "        contents = f.readlines()\n",
    "        for l in contents:\n",
    "            temp = np.zeros(len(word2vec[0]), dtype=float)\n",
    "            all_words = tokenizer.tokenize(l)\n",
    "            lexicon = list(all_words)\n",
    "            lexicon = [(lemmatizer.lemmatize(i)).encode('utf8').lower() for i in lexicon]\n",
    "            for word in lexicon:\n",
    "                temp += word2vec[vocab[word]]\n",
    "            sen2vec.append([temp, output])\n",
    "    return sen2vec\n",
    "\n",
    "def get_2D_sen2vec(fname, word2vec_fname, output, m):\n",
    "    sen2vec = []\n",
    "    with open(word2vec_fname, 'rb') as f:\n",
    "        word2vec, vocab, ivocab = pic.load(f)\n",
    "\n",
    "    with io.open(fname, 'r', encoding='cp437') as f:\n",
    "        contents = f.readlines()\n",
    "        for l in contents:\n",
    "            temp = np.zeros([m, len(word2vec[0])], dtype=float)\n",
    "            count = 0\n",
    "            all_words = tokenizer.tokenize(l)\n",
    "            lexicon = list(all_words)\n",
    "            lexicon = [(lemmatizer.lemmatize(i)).encode('utf8').lower() for i in lexicon]\n",
    "            for word in lexicon:\n",
    "                temp[count] = word2vec[vocab[word]]\n",
    "                count += 1\n",
    "            sen2vec.append([temp, output])\n",
    "    return sen2vec\n",
    "\n",
    "sen2vec_file = \"/home/sumit/PycharmProjects/ResumeParser/Data/resume_segments/Test/web_sen2vec.p\"\n",
    "\n",
    "\n",
    "if not os.path.isfile(sen2vec_file):\n",
    "    # get sentence vector from file\n",
    "    sen2vec = []\n",
    "    count  = 0\n",
    "\n",
    "    for files in dirlist:\n",
    "        output = [0 for i in range(9)]\n",
    "        output[count] = 1\n",
    "        sen2vec +=  get_avg_sen2vec(dirlist_path+files, word2vec_file, output)\n",
    "        count += 1\n",
    "    import random\n",
    "    random.shuffle(sen2vec)\n",
    "    pic.dump(sen2vec, open(sen2vec_file, 'wb'))\n",
    "    print(\"sen2vec created\")"
   ]
  },
  {
   "cell_type": "code",
   "execution_count": 5,
   "metadata": {},
   "outputs": [
    {
     "name": "stdout",
     "output_type": "stream",
     "text": [
      "26037\n",
      "('train data length: ', 20829)\n",
      "('test data length: ', 5208)\n",
      "('structure of train_x', array([ 0.,  0.,  0.,  0.,  0.,  0.,  0.,  0.,  0.,  0.,  0.,  0.,  0.,\n",
      "        0.,  0.,  0.,  0.,  0.,  0.,  0.,  0.,  0.,  0.,  0.,  0.,  0.,\n",
      "        0.,  0.,  0.,  0.,  0.,  0.,  0.,  0.,  0.,  0.,  0.,  0.,  0.,\n",
      "        0.,  0.,  0.,  0.,  0.,  0.,  0.,  0.,  0.,  0.,  0.,  0.,  0.,\n",
      "        0.,  0.,  0.,  0.,  0.,  0.,  0.,  0.,  0.,  0.,  0.,  0.,  0.,\n",
      "        0.,  0.,  0.,  0.,  0.,  0.,  0.,  0.,  0.,  0.,  0.,  0.,  0.,\n",
      "        0.,  0.,  0.,  0.,  0.,  0.,  0.,  0.,  0.,  0.,  0.,  0.,  0.,\n",
      "        0.,  0.,  0.,  0.,  0.,  0.,  0.,  0.,  0.]))\n",
      "('structure of train_y', array([0, 0, 0, 0, 0, 1, 0, 0, 0]))\n"
     ]
    }
   ],
   "source": [
    "f = io.open(sen2vec_file, 'rb')\n",
    "sen2vec = pic.load(f)\n",
    "f.close()\n",
    "print(len(sen2vec))\n",
    "\n",
    "train_data = np.array(sen2vec[0:int(len(sen2vec)*0.8)])\n",
    "test_data = np.array(sen2vec[int(len(sen2vec)*0.8):])\n",
    "train_x = np.array(list(train_data[:, 0]))\n",
    "train_y = np.array(list(train_data[:, 1]))\n",
    "test_x = np.array(list(test_data[:, 0]))\n",
    "test_y = np.array(list(test_data[:, 1]))\n",
    "print(\"train data length: \", len(train_data))\n",
    "print(\"test data length: \", len(test_data))\n",
    "print(\"structure of train_x\", train_x[0])\n",
    "print(\"structure of train_y\", train_y[0])"
   ]
  },
  {
   "cell_type": "code",
   "execution_count": 6,
   "metadata": {},
   "outputs": [
    {
     "name": "stderr",
     "output_type": "stream",
     "text": [
      "Using TensorFlow backend.\n"
     ]
    },
    {
     "name": "stdout",
     "output_type": "stream",
     "text": [
      "Epoch 1/20\n",
      "20829/20829 [==============================] - 27s - loss: 0.8930 - acc: 0.7232    \n",
      "Epoch 2/20\n",
      "20829/20829 [==============================] - 10s - loss: 0.7407 - acc: 0.7691    \n",
      "Epoch 3/20\n",
      "20829/20829 [==============================] - 10s - loss: 0.6871 - acc: 0.7853    \n",
      "Epoch 4/20\n",
      "20829/20829 [==============================] - 11s - loss: 0.6433 - acc: 0.7965    \n",
      "Epoch 5/20\n",
      "20829/20829 [==============================] - 10s - loss: 0.6053 - acc: 0.8074    \n",
      "Epoch 6/20\n",
      "20829/20829 [==============================] - 10s - loss: 0.5716 - acc: 0.8178    \n",
      "Epoch 7/20\n",
      "20829/20829 [==============================] - 10s - loss: 0.5388 - acc: 0.8265    \n",
      "Epoch 8/20\n",
      "20829/20829 [==============================] - 11s - loss: 0.5146 - acc: 0.8347    \n",
      "Epoch 9/20\n",
      "20829/20829 [==============================] - 11s - loss: 0.4864 - acc: 0.8434    \n",
      "Epoch 10/20\n",
      "20829/20829 [==============================] - 10s - loss: 0.4661 - acc: 0.8480    \n",
      "Epoch 11/20\n",
      "20829/20829 [==============================] - 12s - loss: 0.4492 - acc: 0.8542    \n",
      "Epoch 12/20\n",
      "20829/20829 [==============================] - 11s - loss: 0.4313 - acc: 0.8595    \n",
      "Epoch 13/20\n",
      "20829/20829 [==============================] - 10s - loss: 0.4212 - acc: 0.8647    \n",
      "Epoch 14/20\n",
      "20829/20829 [==============================] - 10s - loss: 0.4055 - acc: 0.8669    \n",
      "Epoch 15/20\n",
      "20829/20829 [==============================] - 13s - loss: 0.3943 - acc: 0.8721    \n",
      "Epoch 16/20\n",
      "20829/20829 [==============================] - 10s - loss: 0.3907 - acc: 0.8732    \n",
      "Epoch 17/20\n",
      "20829/20829 [==============================] - 11s - loss: 0.3759 - acc: 0.8776    \n",
      "Epoch 18/20\n",
      "20829/20829 [==============================] - 11s - loss: 0.3671 - acc: 0.8796    \n",
      "Epoch 19/20\n",
      "20829/20829 [==============================] - 11s - loss: 0.3684 - acc: 0.8790    \n",
      "Epoch 20/20\n",
      "20829/20829 [==============================] - 12s - loss: 0.3711 - acc: 0.8808    \n"
     ]
    },
    {
     "data": {
      "text/plain": [
       "<keras.callbacks.History at 0x7f503ac1ce50>"
      ]
     },
     "execution_count": 6,
     "metadata": {},
     "output_type": "execute_result"
    }
   ],
   "source": [
    "from keras.models import Sequential\n",
    "from keras.layers import Dense\n",
    "\n",
    "# Initialising the ANN\n",
    "classifier = Sequential()\n",
    "\n",
    "# Adding the input layer and the first hidden layer\n",
    "classifier.add(Dense(units = 1024, kernel_initializer = 'uniform', activation = 'relu', input_dim = 100))\n",
    "\n",
    "# Adding the second hidden layer\n",
    "classifier.add(Dense(units = 512, kernel_initializer = 'uniform', activation = 'relu'))\n",
    "\n",
    "# Adding the output layer\n",
    "classifier.add(Dense(units = 9, kernel_initializer = 'uniform', activation = 'softmax'))\n",
    "\n",
    "# Compiling the ANN\n",
    "classifier.compile(optimizer = 'adam', loss = 'categorical_crossentropy', metrics = ['accuracy'])\n",
    "\n",
    "# Fitting the ANN to the Training set\n",
    "classifier.fit(train_x, train_y, batch_size = 30, epochs = 20)"
   ]
  },
  {
   "cell_type": "code",
   "execution_count": 7,
   "metadata": {},
   "outputs": [
    {
     "name": "stdout",
     "output_type": "stream",
     "text": [
      "['projects.txt', 'education.txt', 'extra.txt', 'basic_info.txt', 'mimc.txt', 'experience.txt', 'skills.txt', 'summary.txt', 'certificates.txt']\n",
      "('Accuracy', 0.78283410138248843)\n",
      "pred:  [5 6 5 5 5 5 1 5 7 5 5 5 3 5 5 5 6 3 5 5 1 5 5 5 5 1 7 5 5 7]\n",
      "real:  [5 6 5 6 5 5 1 1 3 5 5 5 3 5 7 3 6 3 5 5 1 5 5 5 5 1 7 5 3 7]\n",
      "pred:  [3 5 5 7 5 5 5 5 6 5 5 5 5 5 5 5 5 6 6 5 5 5 1 6 5 5 1 6 5 5 5 8 5 5 3]\n",
      "real:  [3 6 2 7 5 7 5 5 6 5 5 5 5 5 8 5 6 6 6 1 0 5 1 6 5 5 1 6 3 5 5 8 6 5 3]\n",
      "pred:  [5 5 5 5 5 3 6 5 5 5 6 5 5 1 5 5 5 5 5 5 7 6 5 5 5 1 7 5 5 6 6 5 5 1 5]\n",
      "real:  [6 5 5 5 5 3 6 1 5 5 6 5 3 1 3 5 8 5 5 6 7 6 5 5 5 1 7 5 5 6 6 5 5 1 5]\n"
     ]
    }
   ],
   "source": [
    "print dirlist\n",
    "y_pred = classifier.predict(test_x)\n",
    "\n",
    "\n",
    "correct = np.equal(np.argmax(y_pred, 1), np.argmax(test_y, 1))\n",
    "accuracy = np.mean(correct)\n",
    "print(\"Accuracy\", accuracy)\n",
    "print \"pred: \", np.argmax(y_pred, 1)[0:30]\n",
    "print \"real: \", np.argmax(test_y, 1)[0:30]\n",
    "print \"pred: \", np.argmax(y_pred, 1)[30:65]\n",
    "print \"real: \", np.argmax(test_y, 1)[30:65]\n",
    "print \"pred: \", np.argmax(y_pred, 1)[65:100]\n",
    "print \"real: \", np.argmax(test_y, 1)[65:100]"
   ]
  },
  {
   "cell_type": "code",
   "execution_count": 8,
   "metadata": {},
   "outputs": [
    {
     "name": "stdout",
     "output_type": "stream",
     "text": [
      "sen2vec created\n"
     ]
    }
   ],
   "source": [
    "sen2vec_file = \"/home/sumit/PycharmProjects/ResumeParser/Data/resume_segments/Test/web_sen2vec2D.p\"\n",
    "\n",
    "\n",
    "if not os.path.isfile(sen2vec_file):\n",
    "    # get sentence vector from file\n",
    "    sen2vec = []\n",
    "    count  = 0\n",
    "    for files in dirlist:\n",
    "        output = [0 for i in range(9)]\n",
    "        output[count] = 1\n",
    "        sen2vec +=  get_2D_sen2vec(dirlist_path+files, word2vec_file, output, 50)\n",
    "        count += 1\n",
    "    import random\n",
    "    random.shuffle(sen2vec)\n",
    "    pic.dump(sen2vec, open(sen2vec_file, 'wb'))\n",
    "    print(\"sen2vec created\")"
   ]
  },
  {
   "cell_type": "code",
   "execution_count": 9,
   "metadata": {},
   "outputs": [
    {
     "name": "stdout",
     "output_type": "stream",
     "text": [
      "26037\n",
      "('train data length: ', 20829)\n",
      "('test data length: ', 5208)\n",
      "('structure of train_x', array([[ 0.04151403, -0.01772548, -0.03327429, ..., -0.07331215,\n",
      "         0.10822663,  0.16146472],\n",
      "       [-0.00656124, -0.04206555,  0.12508174, ..., -0.02506376,\n",
      "         0.14220549,  0.04648907],\n",
      "       [-0.02246484, -0.01360233, -0.00747819, ..., -0.01930532,\n",
      "         0.15860482,  0.02588506],\n",
      "       ..., \n",
      "       [ 0.        ,  0.        ,  0.        , ...,  0.        ,\n",
      "         0.        ,  0.        ],\n",
      "       [ 0.        ,  0.        ,  0.        , ...,  0.        ,\n",
      "         0.        ,  0.        ],\n",
      "       [ 0.        ,  0.        ,  0.        , ...,  0.        ,\n",
      "         0.        ,  0.        ]]))\n",
      "('structure of train_y', array([0, 0, 0, 0, 0, 1, 0, 0, 0]))\n",
      "((20829, 50, 100, 1), (5208, 50, 100, 1))\n"
     ]
    }
   ],
   "source": [
    "f = io.open(sen2vec_file, 'rb')\n",
    "sen2vec = pic.load(f)\n",
    "f.close()\n",
    "print(len(sen2vec))\n",
    "\n",
    "train_data = np.array(sen2vec[0:int(len(sen2vec)*0.8)])\n",
    "test_data = np.array(sen2vec[int(len(sen2vec)*0.8):])\n",
    "train_x = np.array(list(train_data[:, 0]))\n",
    "train_y = np.array(list(train_data[:, 1]))\n",
    "test_x = np.array(list(test_data[:, 0]))\n",
    "test_y = np.array(list(test_data[:, 1]))\n",
    "print(\"train data length: \", len(train_data))\n",
    "print(\"test data length: \", len(test_data))\n",
    "print(\"structure of train_x\", train_x[0])\n",
    "print(\"structure of train_y\", train_y[0])\n",
    "train_x = np.reshape(train_x, [-1, 50, 100, 1])\n",
    "test_x = np.reshape(test_x, [-1, 50, 100, 1])\n",
    "print(train_x.shape, test_x.shape)"
   ]
  },
  {
   "cell_type": "code",
   "execution_count": 10,
   "metadata": {},
   "outputs": [
    {
     "name": "stdout",
     "output_type": "stream",
     "text": [
      "Epoch 1/20\n",
      "20829/20829 [==============================] - 28s - loss: 0.9146 - acc: 0.7145    \n",
      "Epoch 2/20\n",
      "20829/20829 [==============================] - 24s - loss: 0.7081 - acc: 0.7817    \n",
      "Epoch 3/20\n",
      "20829/20829 [==============================] - 22s - loss: 0.6396 - acc: 0.8022    \n",
      "Epoch 4/20\n",
      "20829/20829 [==============================] - 23s - loss: 0.5792 - acc: 0.8204    \n",
      "Epoch 5/20\n",
      "20829/20829 [==============================] - 22s - loss: 0.5267 - acc: 0.8336    \n",
      "Epoch 6/20\n",
      "20829/20829 [==============================] - 22s - loss: 0.4755 - acc: 0.8480    - ETA: \n",
      "Epoch 7/20\n",
      "20829/20829 [==============================] - 23s - loss: 0.4403 - acc: 0.8592    \n",
      "Epoch 8/20\n",
      "20829/20829 [==============================] - 22s - loss: 0.4096 - acc: 0.8677    \n",
      "Epoch 9/20\n",
      "20829/20829 [==============================] - 22s - loss: 0.3862 - acc: 0.8760    \n",
      "Epoch 10/20\n",
      "20829/20829 [==============================] - 24s - loss: 0.3753 - acc: 0.8798    \n",
      "Epoch 11/20\n",
      "20829/20829 [==============================] - 25s - loss: 0.3679 - acc: 0.8813    \n",
      "Epoch 12/20\n",
      "20829/20829 [==============================] - 24s - loss: 0.3634 - acc: 0.8832    \n",
      "Epoch 13/20\n",
      "20829/20829 [==============================] - 24s - loss: 0.3528 - acc: 0.8859    \n",
      "Epoch 14/20\n",
      "20829/20829 [==============================] - 24s - loss: 0.3452 - acc: 0.8894    - ETA: 0s - loss: 0.3446 - acc\n",
      "Epoch 15/20\n",
      "20829/20829 [==============================] - 25s - loss: 0.3484 - acc: 0.8878    \n",
      "Epoch 16/20\n",
      "20829/20829 [==============================] - 26s - loss: 0.3444 - acc: 0.8893    \n",
      "Epoch 17/20\n",
      "20829/20829 [==============================] - 23s - loss: 0.3301 - acc: 0.8925    \n",
      "Epoch 18/20\n",
      "20829/20829 [==============================] - 24s - loss: 0.3327 - acc: 0.8919    \n",
      "Epoch 19/20\n",
      "20829/20829 [==============================] - 24s - loss: 0.3337 - acc: 0.8909    \n",
      "Epoch 20/20\n",
      "20829/20829 [==============================] - 23s - loss: 0.3312 - acc: 0.8916    \n"
     ]
    },
    {
     "data": {
      "text/plain": [
       "<keras.callbacks.History at 0x7f503a8c5e50>"
      ]
     },
     "execution_count": 10,
     "metadata": {},
     "output_type": "execute_result"
    }
   ],
   "source": [
    "# Importing the Keras libraries and packages\n",
    "from keras.models import Sequential\n",
    "from keras.layers import Conv2D\n",
    "from keras.layers import AveragePooling2D\n",
    "from keras.layers import Flatten\n",
    "from keras.layers import Dense\n",
    "\n",
    "# Initialising the CNN\n",
    "cnn_classifier = Sequential()\n",
    "\n",
    "# Step 1 - Convolution\n",
    "cnn_classifier.add(Conv2D(50, (4, 100), input_shape = (50, 100, 1), activation = 'relu'))\n",
    "\n",
    "# Step 2 - Pooling\n",
    "cnn_classifier.add(AveragePooling2D(pool_size = (2, 1)))\n",
    "\n",
    "# Step 3 - Flattening\n",
    "cnn_classifier.add(Flatten())\n",
    "\n",
    "# Step 4 - Full connection\n",
    "cnn_classifier.add(Dense(units = 1024, activation = 'relu'))\n",
    "cnn_classifier.add(Dense(units = 512, activation = 'relu'))\n",
    "cnn_classifier.add(Dense(units = 9, activation = 'softmax'))\n",
    "\n",
    "# Compiling the CNN\n",
    "cnn_classifier.compile(optimizer = 'adam', loss = 'categorical_crossentropy', metrics = ['accuracy'])\n",
    "\n",
    "# Fitting the ANN to the Training set\n",
    "cnn_classifier.fit(train_x, train_y, batch_size = 30, epochs = 20)"
   ]
  },
  {
   "cell_type": "code",
   "execution_count": 11,
   "metadata": {},
   "outputs": [
    {
     "name": "stdout",
     "output_type": "stream",
     "text": [
      "['projects.txt', 'education.txt', 'extra.txt', 'basic_info.txt', 'mimc.txt', 'experience.txt', 'skills.txt', 'summary.txt', 'certificates.txt']\n",
      "('Accuracy', 0.77803379416282648)\n",
      "pred:  [0 2 3 5 5 7 5 5 5 5 5 5 5 5 5 5 6 1 5 5 5 5 5 5 5 1 5 5 5 5]\n",
      "real:  [0 8 3 5 5 7 5 5 5 5 5 2 5 5 5 5 6 1 5 5 5 5 5 3 5 1 1 5 5 5]\n",
      "pred:  [5 5 5 5 5 7 5 5 5 5 5 5 5 5 5 5 5 5 5 5 5 5 5 6 5 5 5 5 5 5 5 5 5 5 5]\n",
      "real:  [7 5 5 5 5 7 6 5 5 5 5 7 5 5 5 5 5 5 5 5 6 5 5 6 5 5 5 5 5 7 5 5 6 5 6]\n",
      "pred:  [5 5 5 5 5 5 6 1 5 5 5 5 5 6 5 5 5 5 5 5 6 5 5 5 5 5 5 5 6 7 3 5 5 5 5]\n",
      "real:  [5 5 6 5 5 5 6 1 5 3 5 5 5 6 5 5 5 5 5 0 8 5 5 5 0 6 5 5 6 7 3 5 6 5 3]\n"
     ]
    }
   ],
   "source": [
    "print dirlist\n",
    "y_pred = cnn_classifier.predict(test_x)\n",
    "\n",
    "\n",
    "correct = np.equal(np.argmax(y_pred, 1), np.argmax(test_y, 1))\n",
    "accuracy = np.mean(correct)\n",
    "print(\"Accuracy\", accuracy)\n",
    "print \"pred: \", np.argmax(y_pred, 1)[0:30]\n",
    "print \"real: \", np.argmax(test_y, 1)[0:30]\n",
    "print \"pred: \", np.argmax(y_pred, 1)[30:65]\n",
    "print \"real: \", np.argmax(test_y, 1)[30:65]\n",
    "print \"pred: \", np.argmax(y_pred, 1)[65:100]\n",
    "print \"real: \", np.argmax(test_y, 1)[65:100]"
   ]
  },
  {
   "cell_type": "markdown",
   "metadata": {},
   "source": [
    "Now we take any resume and predict the output "
   ]
  },
  {
   "cell_type": "code",
   "execution_count": 45,
   "metadata": {},
   "outputs": [
    {
     "name": "stdout",
     "output_type": "stream",
     "text": [
      "('vocab length: ', 144)\n",
      "('known_vocab length: ', 141)\n",
      "('unknown_vocab length: ', 3)\n"
     ]
    }
   ],
   "source": [
    "resume_file = \"/home/sumit/PycharmProjects/ResumeParser/Data/resume_segments/Test/sample.txt\"\n",
    "# get vocablory of all file\n",
    "vocab = get_vocab(resume_file)\n",
    "print(\"vocab length: \", len(vocab))\n",
    "# get the glove vector\n",
    "known_vocab, unknown_vocab = get_unknown_vocab(glove_vocab_file, vocab)\n",
    "print(\"known_vocab length: \", len(known_vocab))\n",
    "print(\"unknown_vocab length: \", len(unknown_vocab))\n",
    "Word2vec, vocab, ivocab = get_wiki_glove_vector(glove_file, known_vocab)\n",
    "Word2vec, vocab, ivocab = get_unknown_vec(unknown_vocab,Word2vec, vocab, ivocab)"
   ]
  },
  {
   "cell_type": "code",
   "execution_count": 13,
   "metadata": {
    "collapsed": true
   },
   "outputs": [],
   "source": [
    "def get_avg_Testsen2vec(fname, word2vec, vocab, ivocab):\n",
    "    sen2vec = []\n",
    "\n",
    "    with io.open(fname, 'r', encoding='cp437') as f:\n",
    "        contents = f.readlines()\n",
    "        for l in contents:\n",
    "            temp = np.zeros(len(word2vec[0]), dtype=float)\n",
    "            all_words = tokenizer.tokenize(l)\n",
    "            lexicon = list(all_words)\n",
    "            lexicon = [(lemmatizer.lemmatize(i)).encode('utf8').lower() for i in lexicon]\n",
    "            for word in lexicon:\n",
    "                temp += word2vec[vocab[word]]\n",
    "            sen2vec.append(temp)\n",
    "    return sen2vec\n",
    "\n",
    "def get_2D_Testsen2vec(fname,  word2vec, vocab, ivocab , m):\n",
    "    sen2vec = []\n",
    "\n",
    "    with io.open(fname, 'r', encoding='cp437') as f:\n",
    "        contents = f.readlines()\n",
    "        for l in contents:\n",
    "            temp = np.zeros([m, len(word2vec[0])], dtype=float)\n",
    "            count = 0\n",
    "            all_words = tokenizer.tokenize(l)\n",
    "            lexicon = list(all_words)\n",
    "            lexicon = [(lemmatizer.lemmatize(i)).encode('utf8').lower() for i in lexicon]\n",
    "            for word in lexicon:\n",
    "                temp[count] = word2vec[vocab[word]]\n",
    "                count += 1\n",
    "            sen2vec.append(temp)\n",
    "    return sen2vec"
   ]
  },
  {
   "cell_type": "code",
   "execution_count": 1,
   "metadata": {},
   "outputs": [
    {
     "ename": "NameError",
     "evalue": "name 'get_avg_Testsen2vec' is not defined",
     "traceback": [
      "\u001b[0;31m\u001b[0m",
      "\u001b[0;31mNameError\u001b[0mTraceback (most recent call last)",
      "\u001b[0;32m<ipython-input-1-bcc526f183c9>\u001b[0m in \u001b[0;36m<module>\u001b[0;34m()\u001b[0m\n\u001b[0;32m----> 1\u001b[0;31m \u001b[0msen2vec\u001b[0m \u001b[0;34m=\u001b[0m \u001b[0mget_avg_Testsen2vec\u001b[0m\u001b[0;34m(\u001b[0m\u001b[0mresume_file\u001b[0m\u001b[0;34m,\u001b[0m \u001b[0mWord2vec\u001b[0m\u001b[0;34m,\u001b[0m \u001b[0mvocab\u001b[0m\u001b[0;34m,\u001b[0m \u001b[0mivocab\u001b[0m\u001b[0;34m)\u001b[0m\u001b[0;34m\u001b[0m\u001b[0m\n\u001b[0m\u001b[1;32m      2\u001b[0m \u001b[0;32mprint\u001b[0m \u001b[0mdirlist\u001b[0m\u001b[0;34m\u001b[0m\u001b[0m\n\u001b[1;32m      3\u001b[0m \u001b[0;34m\u001b[0m\u001b[0m\n\u001b[1;32m      4\u001b[0m \u001b[0my_pred\u001b[0m \u001b[0;34m=\u001b[0m \u001b[0mclassifier\u001b[0m\u001b[0;34m.\u001b[0m\u001b[0mpredict\u001b[0m\u001b[0;34m(\u001b[0m\u001b[0mnp\u001b[0m\u001b[0;34m.\u001b[0m\u001b[0marray\u001b[0m\u001b[0;34m(\u001b[0m\u001b[0msen2vec\u001b[0m\u001b[0;34m)\u001b[0m\u001b[0;34m)\u001b[0m\u001b[0;34m\u001b[0m\u001b[0m\n\u001b[1;32m      5\u001b[0m \u001b[0;32mwith\u001b[0m \u001b[0mopen\u001b[0m\u001b[0;34m(\u001b[0m\u001b[0mresume_file\u001b[0m\u001b[0;34m,\u001b[0m \u001b[0;34m'r'\u001b[0m\u001b[0;34m)\u001b[0m \u001b[0;32mas\u001b[0m \u001b[0mf\u001b[0m\u001b[0;34m:\u001b[0m\u001b[0;34m\u001b[0m\u001b[0m\n",
      "\u001b[0;31mNameError\u001b[0m: name 'get_avg_Testsen2vec' is not defined"
     ],
     "output_type": "error"
    }
   ],
   "source": [
    "sen2vec = get_avg_Testsen2vec(resume_file, Word2vec, vocab, ivocab)\n",
    "print dirlist\n",
    "\n",
    "y_pred = classifier.predict(np.array(sen2vec))\n",
    "with open(resume_file, 'r') as f:\n",
    "    content = f.readlines()\n",
    "count = 0\n",
    "for line in content:\n",
    "    print line ,'=>', dirlist[np.argmax(y_pred, 1)[count]][:-4]\n",
    "    count += 1"
   ]
  },
  {
   "cell_type": "markdown",
   "metadata": {},
   "source": [
    "accuracy = 85%"
   ]
  },
  {
   "cell_type": "code",
   "execution_count": 15,
   "metadata": {},
   "outputs": [
    {
     "name": "stdout",
     "output_type": "stream",
     "text": [
      "['projects.txt', 'education.txt', 'extra.txt', 'basic_info.txt', 'mimc.txt', 'experience.txt', 'skills.txt', 'summary.txt', 'certificates.txt']\n",
      "Andrew Ang\n",
      "=> basic_info\n",
      "Data Engineer at Harvard\n",
      "=> experience\n",
      "Summary\n",
      "=> experience\n",
      "Data analyst and engineer, experienced in applying data science to a variety of domains. I currently develop the\n",
      "=> experience\n",
      " research & analytics data infrastructure for Harvard's edX and Canvas courses.\n",
      "=> skills\n",
      "I received my B.S.E. in Biomedical Engineering from Duke University, after attending Phillips Academy\n",
      "=> experience\n",
      " Andover. My current interests include data engineering and visualization technologies, Bayesian machine\n",
      "=> experience\n",
      " learning, and online education.\n",
      "=> experience\n",
      "Experience\n",
      "=> experience\n",
      "Data Engineer  at   Harvard University\n",
      "=> experience\n",
      "2016  -  Present (less than a year)\n",
      "=> skills\n",
      "VPAL Research Group, Office of the Vice Provost for Advances in Learning\n",
      "=> experience\n",
      "Developing the research & analytics data infrastructure for Harvard's edX and Canvas courses.\n",
      "=> experience\n",
      "Data Analyst  at   Harvard Stem Cell Institute\n",
      "=> experience\n",
      "2014  -  2015  (1 year)\n",
      "=> skills\n",
      "Using data science to support strategic planning for type 1 diabetes research.\n",
      "=> experience\n",
      "Development of a data management platform for the Melton Lab beta cell production group.\n",
      "=> experience\n",
      "Research Assistant  at   MIT Laboratory for Financial Engineering\n",
      "=> experience\n",
      "2013  -  2015  (2 years)\n",
      "=> skills\n",
      "Exploring relationships between trading, personality and physiology using real-time physiological data from\n",
      "=> experience\n",
      " financial traders. Research supervised by Andrew Lo.\n",
      "=> experience\n",
      "Summer Research Student  at   Dana-Farber Cancer Institute\n",
      "=> education\n",
      "2011  -  2013  (2 years)\n",
      "=> projects\n",
      "Pre-clinical studies of PI3K inhibitors for cancer treatment.\n",
      "=> skills\n",
      "Education\n",
      "=> education\n",
      "HBX / Harvard Business School\n",
      "=> experience\n",
      "CORe: Credential of Readiness, 2016\n",
      "=> experience\n",
      "Grade:  Pass with Honors\n",
      "=> experience\n",
      "Harvard University\n",
      "=> education\n",
      "Non-degree graduate student, Statistics, 2015 - 2016\n",
      "=> experience\n",
      "Duke University\n",
      "=> education\n",
      "Bachelor’s Degree, Biomedical Engineering, 2014\n",
      "=> education\n",
      "Activities and Societies:  Duke Asian Students Association, Duke Squash, Rhythm & Blue, Scale and Coin\n",
      "=> experience\n",
      "Phillips Academy Andover\n",
      "=> education\n",
      "High School, 2009\n",
      "=> education\n",
      "Volunteer Experience\n",
      "=> experience\n",
      "New England Regional Leadership Team  at   Phillips Academy\n",
      "=> experience\n",
      "May 2015  -  Present\n",
      "=> experience\n",
      "Assisting the Office of Alumni Engagement in event planning to connect and engage Andover alumni in the\n",
      "=> experience\n",
      " New England area.\n",
      "=> experience\n",
      "Interests\n",
      "=> experience\n",
      "Machine learning, data science, web development, algorithmic trading with Quantopian, health wearables,\n",
      "=> experience\n",
      " squash\n",
      "=> experience\n",
      "Page2\n",
      "=> experience\n",
      "Andrew Ang\n",
      "=> basic_info\n",
      "Data Engineer at Harvard\n",
      "=> experience\n",
      "Contact Andrew on LinkedIn\n",
      "=> projects\n",
      "\n",
      "=> experience\n"
     ]
    }
   ],
   "source": [
    "sen2vec = get_2D_Testsen2vec(resume_file, Word2vec, vocab, ivocab, 50)\n",
    "print dirlist\n",
    "sen2vec = np.reshape(np.array(sen2vec), (len(sen2vec), 50, 100, 1))\n",
    "y_pred = cnn_classifier.predict(np.array(sen2vec))\n",
    "with open(resume_file, 'r') as f:\n",
    "    content = f.readlines()\n",
    "count = 0\n",
    "for line in content:\n",
    "    print line ,'=>', dirlist[np.argmax(y_pred, 1)[count]][:-4]\n",
    "    count += 1"
   ]
  },
  {
   "cell_type": "code",
   "execution_count": 67,
   "metadata": {},
   "outputs": [
    {
     "name": "stdout",
     "output_type": "stream",
     "text": [
      "[[-0.18364073 -0.59778756 -0.32114431  5.13225603 -0.16906515 -1.64212716\n",
      "  -0.37758484 -0.23207988 -0.34146228  1.        ]\n",
      " [-0.18364017 -0.59928918 -0.3211439  -0.26858801 -0.16906515  0.83884495\n",
      "  -0.37758505 -0.23207988 -0.34146228  2.        ]\n",
      " [-0.05478407 -0.59905958 -0.27409041  2.65678644 -0.16897485 -0.56382787\n",
      "  -0.20594506 -0.0495648  -0.32125312  3.        ]\n",
      " [-0.17301761 -0.59881675  0.08201764 -0.13216363 -0.16905777 -0.16590154\n",
      "  -0.36059827  5.65341616 -0.34131786  4.        ]\n",
      " [-0.18188469 -0.59915411 -0.32094139 -0.2685602  -0.16906515  0.83822489\n",
      "  -0.37460428 -0.23207973 -0.34144646  5.        ]]\n"
     ]
    },
    {
     "data": {
      "image/png": "[encoded data removed]",
      "text/plain": [
       "<matplotlib.figure.Figure at 0x7f4ff34d5850>"
      ]
     },
     "metadata": {},
     "output_type": "display_data"
    },
    {
     "name": "stdout",
     "output_type": "stream",
     "text": [
      "[-0.18364073  1.        ]\n"
     ]
    },
    {
     "data": {
      "image/png": "[encoded data removed]",
      "text/plain": [
       "<matplotlib.figure.Figure at 0x7f500b593e90>"
      ]
     },
     "metadata": {},
     "output_type": "display_data"
    },
    {
     "name": "stdout",
     "output_type": "stream",
     "text": [
      "[2 2 2 2 2 2 2 2 2 2 2 2 0 0 0 0 0 0 0 0 0 0 0 0 1 1 1 1 1 1 1 1 1 1 1 1]\n",
      "[-0.59778756  1.        ]\n"
     ]
    },
    {
     "data": {
      "image/png": "[encoded data removed]",
      "text/plain": [
       "<matplotlib.figure.Figure at 0x7f500b593fd0>"
      ]
     },
     "metadata": {},
     "output_type": "display_data"
    },
    {
     "name": "stdout",
     "output_type": "stream",
     "text": [
      "[1 1 1 1 1 1 1 1 1 1 1 1 2 2 2 2 2 2 2 2 2 2 2 2 0 0 0 0 0 0 0 0 0 0 0 0]\n",
      "[-0.32114431  1.        ]\n"
     ]
    },
    {
     "data": {
      "image/png": "[encoded data removed]",
      "text/plain": [
       "<matplotlib.figure.Figure at 0x7f500019bb90>"
      ]
     },
     "metadata": {},
     "output_type": "display_data"
    },
    {
     "name": "stdout",
     "output_type": "stream",
     "text": [
      "[1 1 1 1 1 1 1 1 1 1 1 2 2 2 2 2 2 2 2 2 2 2 2 0 0 0 0 0 0 0 0 0 0 0 0 0]\n",
      "[ 5.13225603  1.        ]\n"
     ]
    },
    {
     "data": {
      "image/png": "[encoded data removed]",
      "text/plain": [
       "<matplotlib.figure.Figure at 0x7f5000240dd0>"
      ]
     },
     "metadata": {},
     "output_type": "display_data"
    },
    {
     "name": "stdout",
     "output_type": "stream",
     "text": [
      "[1 1 1 1 1 1 1 1 1 1 1 1 0 0 0 0 0 0 0 0 0 0 0 0 2 2 2 2 2 2 2 2 2 2 2 2]\n",
      "[-0.16906515  1.        ]\n"
     ]
    },
    {
     "data": {
      "image/png": "[encoded data removed]",
      "text/plain": [
       "<matplotlib.figure.Figure at 0x7f50280a93d0>"
      ]
     },
     "metadata": {},
     "output_type": "display_data"
    },
    {
     "name": "stdout",
     "output_type": "stream",
     "text": [
      "[1 1 1 1 1 1 1 1 1 1 1 1 0 0 0 0 0 0 0 0 0 0 0 0 2 2 2 2 2 2 2 2 2 2 2 2]\n",
      "[-1.64212716  1.        ]\n"
     ]
    },
    {
     "data": {
      "image/png": "[encoded data removed]",
      "text/plain": [
       "<matplotlib.figure.Figure at 0x7f50094adfd0>"
      ]
     },
     "metadata": {},
     "output_type": "display_data"
    },
    {
     "name": "stdout",
     "output_type": "stream",
     "text": [
      "[1 1 1 1 1 1 1 1 1 1 1 1 0 0 0 0 0 0 0 0 0 0 0 0 2 2 2 2 2 2 2 2 2 2 2 2]\n",
      "[-0.37758484  1.        ]\n"
     ]
    },
    {
     "data": {
      "image/png": "[encoded data removed]",
      "text/plain": [
       "<matplotlib.figure.Figure at 0x7f500b48fd50>"
      ]
     },
     "metadata": {},
     "output_type": "display_data"
    },
    {
     "name": "stdout",
     "output_type": "stream",
     "text": [
      "[0 0 0 0 0 0 0 0 0 0 0 0 2 2 2 2 2 2 2 2 2 2 2 2 1 1 1 1 1 1 1 1 1 1 1 1]\n",
      "[-0.23207988  1.        ]\n"
     ]
    },
    {
     "data": {
      "image/png": "[encoded data removed]",
      "text/plain": [
       "<matplotlib.figure.Figure at 0x7f500b300750>"
      ]
     },
     "metadata": {},
     "output_type": "display_data"
    },
    {
     "name": "stdout",
     "output_type": "stream",
     "text": [
      "[0 0 0 0 0 0 0 0 0 0 0 2 2 2 2 2 2 2 2 2 2 2 2 1 1 1 1 1 1 1 1 1 1 1 1 1]\n",
      "[-0.34146228  1.        ]\n"
     ]
    },
    {
     "data": {
      "image/png": "[encoded data removed]",
      "text/plain": [
       "<matplotlib.figure.Figure at 0x7f500a2bf150>"
      ]
     },
     "metadata": {},
     "output_type": "display_data"
    },
    {
     "name": "stdout",
     "output_type": "stream",
     "text": [
      "[1 1 1 1 1 1 1 1 1 1 1 1 2 2 2 2 2 2 2 2 2 2 2 2 0 0 0 0 0 0 0 0 0 0 0 0]\n"
     ]
    }
   ],
   "source": [
    "sen2vec = get_avg_Testsen2vec(resume_file, Word2vec, vocab, ivocab)\n",
    "pred = classifier.predict(np.array(sen2vec))\n",
    "from sklearn.preprocessing import StandardScaler\n",
    "sc_x = StandardScaler()\n",
    "pred = sc_x.fit_transform(pred)\n",
    "index = np.array([[i] for i in range(1, len(sen2vec)+1)])\n",
    "pred = np.append(pred, index, axis=1)\n",
    "\n",
    "print pred[0:5]\n",
    "import matplotlib.pyplot as plt\n",
    "from sklearn.cluster import KMeans\n",
    "wcss = []\n",
    "for i in range(1, 11):\n",
    "    cluster = KMeans(n_clusters=i)\n",
    "    cluster.fit(pred)\n",
    "    wcss.append(cluster.inertia_)\n",
    "\n",
    "plt.plot(range(1, 11), wcss)\n",
    "plt.show()\n",
    "for j in range(9):\n",
    "    cluster = KMeans(n_clusters=3)\n",
    "    y_pred = cluster.fit_predict(pred[:, [j, 9]])\n",
    "    print pred[0, [j, 9]]\n",
    "    color = ['red', 'blue', 'green', 'pink', 'black']\n",
    "\n",
    "    for i in range(5):\n",
    "        plt.scatter(pred[y_pred==i, j], pred[y_pred==i, 9], color=color[i], s=100)\n",
    "    #plt.scatter(cluster.cluster_centers_[:,0], cluster.cluster_centers_[:,1], s=300, color='yellow')\n",
    "    plt.show()\n",
    "    print y_pred"
   ]
  },
  {
   "cell_type": "code",
   "execution_count": 71,
   "metadata": {},
   "outputs": [
    {
     "name": "stdout",
     "output_type": "stream",
     "text": [
      "[[  4.74430738e-12   6.04256173e-04   2.80522255e-11   9.99395609e-01\n",
      "    4.97343708e-18   1.63708364e-07   8.58475158e-09   3.81035318e-13\n",
      "    3.41450063e-11   1.00000000e+00]\n",
      " [  1.42571022e-08   7.15242621e-08   8.29193658e-10   1.24227918e-05\n",
      "    8.47126894e-21   9.99987483e-01   4.37355402e-10   2.59606208e-11\n",
      "    6.44551981e-11   2.00000000e+00]\n",
      " [  3.31133557e-03   9.24433189e-05   9.22815889e-05   5.41329682e-01\n",
      "    1.04221671e-08   4.34622377e-01   8.32530018e-03   1.17113097e-02\n",
      "    5.15208289e-04   3.00000000e+00]\n",
      " [  2.72991048e-04   1.90144943e-04   7.90676801e-04   2.52566710e-02\n",
      "    8.50912396e-10   5.95011652e-01   8.23933166e-04   3.77650231e-01\n",
      "    3.68193105e-06   4.00000000e+00]\n",
      " [  4.51262058e-05   5.43985516e-05   3.97957876e-07   1.75739970e-05\n",
      "    1.30268553e-15   9.99737561e-01   1.44580787e-04   1.02604876e-08\n",
      "    4.03422234e-07   5.00000000e+00]]\n"
     ]
    },
    {
     "data": {
      "image/png": "[encoded data removed]",
      "text/plain": [
       "<matplotlib.figure.Figure at 0x7f4ff3ea9d90>"
      ]
     },
     "metadata": {},
     "output_type": "display_data"
    },
    {
     "data": {
      "image/png": "[encoded data removed]",
      "text/plain": [
       "<matplotlib.figure.Figure at 0x7f500a1dd510>"
      ]
     },
     "metadata": {},
     "output_type": "display_data"
    },
    {
     "name": "stdout",
     "output_type": "stream",
     "text": [
      "[  4.74430738e-12   1.00000000e+00]\n"
     ]
    },
    {
     "data": {
      "image/png": "[encoded data removed]",
      "text/plain": [
       "<matplotlib.figure.Figure at 0x7f4ff3f61ad0>"
      ]
     },
     "metadata": {},
     "output_type": "display_data"
    },
    {
     "name": "stdout",
     "output_type": "stream",
     "text": [
      "[1 1 1 1 1 1 1 1 1 1 1 1 0 0 0 0 0 0 0 0 0 0 0 0 0 2 2 2 2 2 2 2 2 2 2 2]\n",
      "[  6.04256173e-04   1.00000000e+00]\n"
     ]
    },
    {
     "data": {
      "image/png": "[encoded data removed]",
      "text/plain": [
       "<matplotlib.figure.Figure at 0x7f4ff34c3bd0>"
      ]
     },
     "metadata": {},
     "output_type": "display_data"
    },
    {
     "name": "stdout",
     "output_type": "stream",
     "text": [
      "[0 0 0 0 0 0 0 0 0 0 0 0 0 0 0 1 1 1 1 1 1 1 1 1 1 1 1 1 2 2 2 2 2 2 2 2]\n",
      "[  2.80522255e-11   1.00000000e+00]\n"
     ]
    },
    {
     "data": {
      "image/png": "[encoded data removed]",
      "text/plain": [
       "<matplotlib.figure.Figure at 0x7f500b59c290>"
      ]
     },
     "metadata": {},
     "output_type": "display_data"
    },
    {
     "name": "stdout",
     "output_type": "stream",
     "text": [
      "[0 0 0 0 0 0 0 0 0 0 0 0 0 0 0 0 2 2 2 2 2 2 2 2 1 1 1 1 1 1 1 1 1 1 1 1]\n",
      "[ 0.99939561  1.        ]\n"
     ]
    },
    {
     "data": {
      "image/png": "[encoded data removed]",
      "text/plain": [
       "<matplotlib.figure.Figure at 0x7f50280b8f90>"
      ]
     },
     "metadata": {},
     "output_type": "display_data"
    },
    {
     "name": "stdout",
     "output_type": "stream",
     "text": [
      "[1 1 1 1 1 1 1 1 1 1 1 2 2 2 2 2 2 2 2 2 2 0 0 0 0 0 0 0 0 0 0 0 0 0 0 0]\n",
      "[  4.97343708e-18   1.00000000e+00]\n"
     ]
    },
    {
     "data": {
      "image/png": "[encoded data removed]",
      "text/plain": [
       "<matplotlib.figure.Figure at 0x7f50002dbf90>"
      ]
     },
     "metadata": {},
     "output_type": "display_data"
    },
    {
     "name": "stdout",
     "output_type": "stream",
     "text": [
      "[0 0 0 0 0 0 0 0 0 0 0 0 0 0 0 0 2 2 2 2 2 2 2 2 1 1 1 1 1 1 1 1 1 1 1 1]\n",
      "[  1.63708364e-07   1.00000000e+00]\n"
     ]
    },
    {
     "data": {
      "image/png": "[encoded data removed]",
      "text/plain": [
       "<matplotlib.figure.Figure at 0x7f50095520d0>"
      ]
     },
     "metadata": {},
     "output_type": "display_data"
    },
    {
     "name": "stdout",
     "output_type": "stream",
     "text": [
      "[2 2 2 2 2 2 2 2 1 1 1 1 1 1 1 1 1 1 1 1 0 0 0 0 0 0 0 0 0 0 0 0 0 0 0 0]\n",
      "[  8.58475158e-09   1.00000000e+00]\n"
     ]
    },
    {
     "data": {
      "image/png": "[encoded data removed]",
      "text/plain": [
       "<matplotlib.figure.Figure at 0x7f500b2e6cd0>"
      ]
     },
     "metadata": {},
     "output_type": "display_data"
    },
    {
     "name": "stdout",
     "output_type": "stream",
     "text": [
      "[1 1 1 1 1 1 1 1 1 1 1 2 2 2 2 2 2 2 0 0 0 0 0 0 0 0 0 0 0 0 0 0 0 0 0 0]\n",
      "[  3.81035318e-13   1.00000000e+00]\n"
     ]
    },
    {
     "data": {
      "image/png": "[encoded data removed]",
      "text/plain": [
       "<matplotlib.figure.Figure at 0x7f4ff3d4be10>"
      ]
     },
     "metadata": {},
     "output_type": "display_data"
    },
    {
     "name": "stdout",
     "output_type": "stream",
     "text": [
      "[0 0 0 0 0 0 0 0 0 0 0 0 0 0 0 0 0 1 1 1 1 1 1 1 1 1 1 1 1 1 2 2 2 2 2 2]\n",
      "[  3.41450063e-11   1.00000000e+00]\n"
     ]
    },
    {
     "data": {
      "image/png": "[encoded data removed]",
      "text/plain": [
       "<matplotlib.figure.Figure at 0x7f500b2fd690>"
      ]
     },
     "metadata": {},
     "output_type": "display_data"
    },
    {
     "name": "stdout",
     "output_type": "stream",
     "text": [
      "[2 2 2 2 2 2 2 2 2 2 0 0 0 0 0 0 0 0 0 0 0 0 0 0 1 1 1 1 1 1 1 1 1 1 1 1]\n",
      "full\n",
      "[0 0 0 0 0 0 0 0 0 0 0 0 0 0 0 0 0 1 1 1 1 1 1 1 1 1 1 1 2 2 2 2 2 2 2 2]\n"
     ]
    }
   ],
   "source": [
    "sen2vec = get_avg_Testsen2vec(resume_file, Word2vec, vocab, ivocab)\n",
    "pred = classifier.predict(np.array(sen2vec))\n",
    "#from sklearn.preprocessing import StandardScaler\n",
    "#sc_x = StandardScaler()\n",
    "#pred = sc_x.fit_transform(pred)\n",
    "index = np.array([[i] for i in range(1, len(sen2vec)+1)])\n",
    "pred = np.append(pred, index, axis=1)\n",
    "\n",
    "print pred[0:5]\n",
    "import matplotlib.pyplot as plt\n",
    "import scipy.cluster.hierarchy as  sch\n",
    "denfrograms = sch.dendrogram(sch.linkage(pred, method='ward'))\n",
    "plt.show()\n",
    "\n",
    "plt.plot(range(1, 11), wcss)\n",
    "plt.show()\n",
    "for j in range(9):\n",
    "    from sklearn.cluster import AgglomerativeClustering as AC\n",
    "    cluster = AC(n_clusters=3)\n",
    "    y_pred = cluster.fit_predict(pred[:, [j, 9]])\n",
    "    print pred[0, [j, 9]]\n",
    "    color = ['red', 'blue', 'green', 'pink', 'black']\n",
    "\n",
    "    for i in range(5):\n",
    "        plt.scatter(pred[y_pred==i, j], pred[y_pred==i, 9], color=color[i], s=100)\n",
    "    #plt.scatter(cluster.cluster_centers_[:,0], cluster.cluster_centers_[:,1], s=300, color='yellow')\n",
    "    plt.show()\n",
    "    print y_pred\n",
    "print \"full\"\n",
    "cluster = AC(n_clusters=3)\n",
    "y_pred = cluster.fit_predict(pred)\n",
    "print y_pred"
   ]
  },
  {
   "cell_type": "markdown",
   "metadata": {},
   "source": [
    "accuracy = 77.5%"
   ]
  }
 ],
 "metadata": {
  "kernelspec": {
   "display_name": "Python 2",
   "language": "python",
   "name": "python2"
  },
  "language_info": {
   "codemirror_mode": {
    "name": "ipython",
    "version": 2
   },
   "file_extension": ".py",
   "mimetype": "text/x-python",
   "name": "python",
   "nbconvert_exporter": "python",
   "pygments_lexer": "ipython2",
   "version": "2.7.13"
  }
 },
 "nbformat": 4,
 "nbformat_minor": 1
}
